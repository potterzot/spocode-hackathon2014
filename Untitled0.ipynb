{
 "metadata": {
  "name": "",
  "signature": "sha256:50ac9fb79330db7fff849044a28c53c222f1f2aa66c42bdd00fb7cd39a8439c4"
 },
 "nbformat": 3,
 "nbformat_minor": 0,
 "worksheets": []
}