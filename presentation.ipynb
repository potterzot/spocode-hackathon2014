{
 "metadata": {
  "name": "",
  "signature": "sha256:707d9291989c1037a573f27fe8740a2881b90294d92e99d3ed1ebc30364b1f1b"
 },
 "nbformat": 3,
 "nbformat_minor": 0,
 "worksheets": [
  {
   "cells": [
    {
     "cell_type": "markdown",
     "metadata": {},
     "source": [
      "Ipython Presentation\n",
      "====================\n",
      "List of tutorials, etc...:\n",
      "* [Ipython notebook viewer](http://nbviewer.ipython.org/)\n",
      "* [Youtube tutorials](https://www.youtube.com/watch?v=xe_ATRmw0KM)\n",
      "* [Awesome list of available resources](https://github.com/ipython/ipython/wiki/A-gallery-of-interesting-IPython-Notebooks)\n",
      "* and, for those of you interested in bayesian statistics, and [entire book in ipython](https://github.com/potterzot/Probabilistic-Programming-and-Bayesian-Methods-for-Hackers)\n"
     ]
    },
    {
     "cell_type": "code",
     "collapsed": false,
     "input": [
      "import fred\n",
      "import numpy as np\n",
      "import pandas as pd"
     ],
     "language": "python",
     "metadata": {},
     "outputs": [],
     "prompt_number": 2
    },
    {
     "cell_type": "code",
     "collapsed": false,
     "input": [
      "api_key = '88dbbb171de8f234028ca5985245f849'\n",
      "fred.key(api_key)"
     ],
     "language": "python",
     "metadata": {},
     "outputs": [
      {
       "metadata": {},
       "output_type": "pyout",
       "prompt_number": 3,
       "text": [
        "<fred.core.Fred at 0x7f131777e940>"
       ]
      }
     ],
     "prompt_number": 3
    },
    {
     "cell_type": "code",
     "collapsed": false,
     "input": [],
     "language": "python",
     "metadata": {},
     "outputs": []
    },
    {
     "cell_type": "markdown",
     "metadata": {},
     "source": [
      "*python*\n"
     ]
    }
   ],
   "metadata": {}
  }
 ]
}