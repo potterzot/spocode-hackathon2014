{
 "metadata": {
  "name": "",
  "signature": "sha256:1a3eeab6366e2e41cb72b03cc3a5f6db333be23f1693f94a795ee3f794c754c7"
 },
 "nbformat": 3,
 "nbformat_minor": 0,
 "worksheets": [
  {
   "cells": [
    {
     "cell_type": "markdown",
     "metadata": {},
     "source": [
      "Ipython Presentation\n",
      "====================\n",
      "List of tutorials, etc...:\n",
      "* [This notebook](http://nbviewer.ipython.org/github/potterzot/spocode-hackathon2014/blob/master/presentation.ipynb)\n",
      "* [Ipython notebook viewer](http://nbviewer.ipython.org/)\n",
      "* [Youtube tutorials](https://www.youtube.com/watch?v=xe_ATRmw0KM)\n",
      "* [Awesome list of available resources](https://github.com/ipython/ipython/wiki/A-gallery-of-interesting-IPython-Notebooks)\n",
      "* and, for those of you interested in bayesian statistics, and [entire book in ipython](https://github.com/potterzot/Probabilistic-Programming-and-Bayesian-Methods-for-Hackers)\n"
     ]
    },
    {
     "cell_type": "code",
     "collapsed": false,
     "input": [
      "import fred\n",
      "import numpy as np\n",
      "import pandas as pd"
     ],
     "language": "python",
     "metadata": {},
     "outputs": [],
     "prompt_number": 1
    },
    {
     "cell_type": "code",
     "collapsed": false,
     "input": [
      "api_key = '88dbbb171de8f234028ca5985245f849'\n",
      "fred.key(api_key)"
     ],
     "language": "python",
     "metadata": {},
     "outputs": [
      {
       "metadata": {},
       "output_type": "pyout",
       "prompt_number": 2,
       "text": [
        "<fred.core.Fred at 0x7f8b727bbdd8>"
       ]
      }
     ],
     "prompt_number": 2
    },
    {
     "cell_type": "code",
     "collapsed": false,
     "input": [
      "#fred.search(\"Income\")"
     ],
     "language": "python",
     "metadata": {},
     "outputs": [],
     "prompt_number": 3
    },
    {
     "cell_type": "code",
     "collapsed": false,
     "input": [
      "gdp = fred.observations(\"GDP\")\n",
      "#gdp"
     ],
     "language": "python",
     "metadata": {},
     "outputs": [],
     "prompt_number": 4
    },
    {
     "cell_type": "code",
     "collapsed": false,
     "input": [
      "#put the data in a dataframe\n",
      "data = pd.DataFrame(gdp['observations'])\n",
      "#data"
     ],
     "language": "python",
     "metadata": {},
     "outputs": [],
     "prompt_number": 5
    },
    {
     "cell_type": "code",
     "collapsed": false,
     "input": [
      "# fix missing\n",
      "data['value'] = data['value'].replace('.', np.NaN)\n",
      "data = data.dropna()\n",
      "data['value'] = data['value'].astype(float)\n",
      "\n",
      "# dates\n",
      "dates = pd.Series(pd.to_datetime(data['date']))\n",
      "\n",
      "# plotting\n",
      "import matplotlib.pyplot as plt\n",
      "plt.plot_date(dates, data['value'])\n",
      "plt.show()"
     ],
     "language": "python",
     "metadata": {},
     "outputs": [],
     "prompt_number": 7
    },
    {
     "cell_type": "markdown",
     "metadata": {},
     "source": [
      "\n"
     ]
    }
   ],
   "metadata": {}
  }
 ]
}